{
  "nbformat": 4,
  "nbformat_minor": 0,
  "metadata": {
    "anaconda-cloud": {},
    "kernelspec": {
      "display_name": "Python 3",
      "language": "python",
      "name": "python3"
    },
    "language_info": {
      "codemirror_mode": {
        "name": "ipython",
        "version": 3
      },
      "file_extension": ".py",
      "mimetype": "text/x-python",
      "name": "python",
      "nbconvert_exporter": "python",
      "pygments_lexer": "ipython3",
      "version": "3.6.8"
    },
    "colab": {
      "name": "exercise_session_2_colab2(1).ipynb",
      "provenance": [],
      "collapsed_sections": [],
      "toc_visible": true
    }
  },
  "cells": [
    {
      "cell_type": "markdown",
      "metadata": {
        "id": "E48ZqPowxTlE",
        "colab_type": "text"
      },
      "source": [
        "# Smart Distribution Systems (B-KUL-H00P3A) \n",
        "Prof. Geert Deconinck"
      ]
    },
    {
      "cell_type": "markdown",
      "metadata": {
        "id": "gGOeg5bnxTlG",
        "colab_type": "text"
      },
      "source": [
        "This exercise session will familiarize you with basic concepts from machine learning and show you how these concepts can be used within power systems for forecasting."
      ]
    },
    {
      "cell_type": "markdown",
      "metadata": {
        "id": "6MuE5xZ8xTlH",
        "colab_type": "text"
      },
      "source": [
        "You will learn to:\n",
        "* set up a machine learning environment, using state-of-the-art tools, such as keras, tensorflow and theano in Python;\n",
        "* implement and train a two-layer neural network using Keras;\n",
        "* use this neural network to make prediction about the wholesale electricity price.\n"
      ]
    },
    {
      "cell_type": "code",
      "metadata": {
        "id": "Jj41ImlSxTlI",
        "colab_type": "code",
        "colab": {}
      },
      "source": [
        "import pandas as pd\n",
        "import numpy as np\n",
        "#%matplotlib ipympl\n",
        "import matplotlib.pyplot as plt\n",
        "import time\n",
        "import pickle\n",
        "import datetime\n",
        "import datetime as dt\n",
        "import io\n",
        "from sklearn.model_selection import train_test_split, cross_val_predict\n",
        "from sklearn.model_selection import KFold # import KFold\n",
        "from sklearn.model_selection import RepeatedKFold # import KFold\n",
        "from keras.callbacks import EarlyStopping\n",
        "from sklearn.model_selection import TimeSeriesSplit\n",
        "from sklearn.metrics import mean_squared_error"
      ],
      "execution_count": 0,
      "outputs": []
    },
    {
      "cell_type": "markdown",
      "metadata": {
        "id": "9AlpQtMV9g69",
        "colab_type": "text"
      },
      "source": [
        "The next code snippet allow us to upload our data to Google Colab. The execution of the next two lines generate a widget window that you can use to browse your computer for the 4 csv files used in this exercise session: 'solar_20162017.csv', 'wind_20162017.csv', 'belpex_20162017.csv' and 'belpex_2011.csv'. Upload these files to the Google Colab environment. "
      ]
    },
    {
      "cell_type": "code",
      "metadata": {
        "id": "YbMsVgB707zS",
        "colab_type": "code",
        "outputId": "af9ef807-6263-4bfa-add7-f20f83a393fc",
        "colab": {
          "resources": {
            "http://localhost:8080/nbextensions/google.colab/files.js": {
              "data": "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",
              "ok": true,
              "headers": [
                [
                  "content-type",
                  "application/javascript"
                ]
              ],
              "status": 200,
              "status_text": ""
            }
          },
          "base_uri": "https://localhost:8080/",
          "height": 144
        }
      },
      "source": [
        "from google.colab import files\n",
        "uploaded = files.upload()"
      ],
      "execution_count": 2,
      "outputs": [
        {
          "output_type": "display_data",
          "data": {
            "text/html": [
              "\n",
              "     <input type=\"file\" id=\"files-6f5a44d1-700f-444c-9058-711dddd1dc9e\" name=\"files[]\" multiple disabled />\n",
              "     <output id=\"result-6f5a44d1-700f-444c-9058-711dddd1dc9e\">\n",
              "      Upload widget is only available when the cell has been executed in the\n",
              "      current browser session. Please rerun this cell to enable.\n",
              "      </output>\n",
              "      <script src=\"/nbextensions/google.colab/files.js\"></script> "
            ],
            "text/plain": [
              "<IPython.core.display.HTML object>"
            ]
          },
          "metadata": {
            "tags": []
          }
        },
        {
          "output_type": "stream",
          "text": [
            "Saving belpex_20162017.csv to belpex_20162017.csv\n",
            "Saving solar_20162017.csv to solar_20162017.csv\n",
            "Saving wind_20162017.csv to wind_20162017.csv\n"
          ],
          "name": "stdout"
        }
      ]
    },
    {
      "cell_type": "markdown",
      "metadata": {
        "id": "Z1pPV8TVxTlM",
        "colab_type": "text"
      },
      "source": [
        "For more information on de pandas data frame see: http://pandas.pydata.org/pandas-docs/stable/generated/pandas.DataFrame.html"
      ]
    },
    {
      "cell_type": "code",
      "metadata": {
        "id": "3HBVZ5ddxTlN",
        "colab_type": "code",
        "colab": {}
      },
      "source": [
        "start_date = dt.datetime(2016,1,1)\n",
        "end_date = dt.datetime(2017,12,31)"
      ],
      "execution_count": 0,
      "outputs": []
    },
    {
      "cell_type": "markdown",
      "metadata": {
        "id": "gdXPrV4HxTlP",
        "colab_type": "text"
      },
      "source": [
        "First we'll import the csv with the solar data into pandas. Use the pandas documentation to figure out what each of lines do in the next piece of code."
      ]
    },
    {
      "cell_type": "code",
      "metadata": {
        "id": "VbjOSGhQ2apf",
        "colab_type": "code",
        "colab": {}
      },
      "source": [
        "df_solar = pd.read_csv('solar_20162017.csv', header=0)\n",
        "df_solar = df_solar.rename(columns = {'Unnamed: 0':'time'})\n",
        "df_solar['time'] = pd.to_datetime(df_solar['time'])\n",
        "df_solar.set_index('time', inplace=True)\n"
      ],
      "execution_count": 0,
      "outputs": []
    },
    {
      "cell_type": "markdown",
      "metadata": {
        "id": "HYfWTSFhxTlT",
        "colab_type": "text"
      },
      "source": [
        "For now, we're only interested in the LoadFactor (actual solar power generated in Belgium)."
      ]
    },
    {
      "cell_type": "code",
      "metadata": {
        "id": "e6_lqCdRxTlU",
        "colab_type": "code",
        "outputId": "ecc02375-4aa9-4510-8a7b-59e8b09f218d",
        "colab": {
          "base_uri": "https://localhost:8080/",
          "height": 140
        }
      },
      "source": [
        "df_solar = df_solar.LoadFactor\n",
        "df_solar.head()"
      ],
      "execution_count": 400,
      "outputs": [
        {
          "output_type": "execute_result",
          "data": {
            "text/plain": [
              "time\n",
              "2016-01-01 00:00:00    0.0\n",
              "2016-01-01 00:15:00    0.0\n",
              "2016-01-01 00:30:00    0.0\n",
              "2016-01-01 00:45:00    0.0\n",
              "2016-01-01 01:00:00    0.0\n",
              "Name: LoadFactor, dtype: float64"
            ]
          },
          "metadata": {
            "tags": []
          },
          "execution_count": 400
        }
      ]
    },
    {
      "cell_type": "markdown",
      "metadata": {
        "id": "dtT_xIu2xTlX",
        "colab_type": "text"
      },
      "source": [
        "We do the same thing for the wind power data."
      ]
    },
    {
      "cell_type": "code",
      "metadata": {
        "id": "HI0mn0AKxTlX",
        "colab_type": "code",
        "outputId": "6f2200c7-1462-4484-99f1-fbb98b0a26fe",
        "colab": {
          "base_uri": "https://localhost:8080/",
          "height": 140
        }
      },
      "source": [
        "df_wind = pd.read_csv('wind_20162017.csv', header=0)\n",
        "df_wind = df_wind.rename(columns = {'Unnamed: 0':'time'})\n",
        "df_wind['time'] = pd.to_datetime(df_wind['time'])\n",
        "df_wind.set_index('time', inplace=True)\n",
        "df_wind = df_wind.LoadFactor\n",
        "df_wind.head()"
      ],
      "execution_count": 401,
      "outputs": [
        {
          "output_type": "execute_result",
          "data": {
            "text/plain": [
              "time\n",
              "2016-01-01 00:00:00    0.47\n",
              "2016-01-01 00:15:00    0.43\n",
              "2016-01-01 00:30:00    0.41\n",
              "2016-01-01 00:45:00    0.41\n",
              "2016-01-01 01:00:00    0.40\n",
              "Name: LoadFactor, dtype: float64"
            ]
          },
          "metadata": {
            "tags": []
          },
          "execution_count": 401
        }
      ]
    },
    {
      "cell_type": "markdown",
      "metadata": {
        "id": "G0znQdsRxTla",
        "colab_type": "text"
      },
      "source": [
        "And for the Belgian day-ahead electricity prices>"
      ]
    },
    {
      "cell_type": "code",
      "metadata": {
        "id": "t55ABQExxTlb",
        "colab_type": "code",
        "outputId": "ccdfe5d2-4cb5-4793-9349-8b2415a1ff5a",
        "colab": {
          "base_uri": "https://localhost:8080/",
          "height": 140
        }
      },
      "source": [
        "df_belpex = pd.read_csv('belpex_20162017.csv', header=0)\n",
        "df_belpex = df_belpex.rename(columns = {'Unnamed: 0':'time'})\n",
        "df_belpex['time'] = pd.to_datetime(df_belpex['time'])\n",
        "df_belpex.set_index('time', inplace=True)\n",
        "df_belpex = df_belpex.price\n",
        "df_belpex.head()"
      ],
      "execution_count": 402,
      "outputs": [
        {
          "output_type": "execute_result",
          "data": {
            "text/plain": [
              "time\n",
              "2016-01-01 00:00:00    23.86\n",
              "2016-01-01 01:00:00    22.39\n",
              "2016-01-01 02:00:00    20.59\n",
              "2016-01-01 03:00:00    16.81\n",
              "2016-01-01 04:00:00    17.41\n",
              "Name: price, dtype: float64"
            ]
          },
          "metadata": {
            "tags": []
          },
          "execution_count": 402
        }
      ]
    },
    {
      "cell_type": "markdown",
      "metadata": {
        "id": "GlAJHvCUxTld",
        "colab_type": "text"
      },
      "source": [
        "Unfortunately, in real-life datasets, sometimes, certain data is missing. We can see this by trying to assign the price to a variable named 'p' and catching the error if no value is available."
      ]
    },
    {
      "cell_type": "code",
      "metadata": {
        "id": "XwKBj-5NxTle",
        "colab_type": "code",
        "outputId": "29dedee9-d1c3-46c3-91c7-54c01d7b8a3e",
        "colab": {
          "base_uri": "https://localhost:8080/",
          "height": 52
        }
      },
      "source": [
        "dates = pd.date_range(start=start_date, end=end_date, freq='1H')\n",
        "for d in dates:\n",
        "    try:\n",
        "        p = df_belpex.loc[d]\n",
        "    except KeyError:\n",
        "        print(d)"
      ],
      "execution_count": 403,
      "outputs": [
        {
          "output_type": "stream",
          "text": [
            "2016-03-27 02:00:00\n",
            "2017-03-26 02:00:00\n"
          ],
          "name": "stdout"
        }
      ]
    },
    {
      "cell_type": "markdown",
      "metadata": {
        "id": "KEW9Z8oRxTlh",
        "colab_type": "text"
      },
      "source": [
        "We will have to take assumptions of these values. In this case it makes sense to either assume they are the same as the previous hour or the next hour. Or, to take the average of both. In this case we will just assume the price is the same as the previous hour."
      ]
    },
    {
      "cell_type": "code",
      "metadata": {
        "id": "NOLI3SqMxTli",
        "colab_type": "code",
        "colab": {}
      },
      "source": [
        "dates = pd.date_range(start=start_date, end=end_date, freq='1H')\n",
        "for d in dates:\n",
        "    try:\n",
        "        p = df_belpex.loc[d]\n",
        "    except KeyError:\n",
        "        df_belpex.loc[d] = df_belpex.loc[d-dt.timedelta(hours=1)]\n",
        "df_belpex = df_belpex.sort_index()\n",
        "df_belpex = df_belpex[start_date:end_date]"
      ],
      "execution_count": 0,
      "outputs": []
    },
    {
      "cell_type": "markdown",
      "metadata": {
        "id": "HutQ8PxBxTlk",
        "colab_type": "text"
      },
      "source": [
        "Additionally the wind dataset has certain NaN (Not a Number) values. We don't want these in our dataset either. Therefore, we choose to fill the previous valid observation until the next valid one. <br>\n",
        "Check for nan's in the wind dataset in the next cell!"
      ]
    },
    {
      "cell_type": "code",
      "metadata": {
        "id": "18DpgBqnxTll",
        "colab_type": "code",
        "colab": {}
      },
      "source": [
        "df_wind =  df_wind.fillna(method='pad')"
      ],
      "execution_count": 0,
      "outputs": []
    },
    {
      "cell_type": "markdown",
      "metadata": {
        "id": "sZhLge7exTln",
        "colab_type": "text"
      },
      "source": [
        "Moreover, the different datasets have different time granularities. Different options are possible to deal with this issue. Here we will use the smallest granularity. Solar and PV data are on a 15 minute basis. Therefore, we will also put the belpex data on a 15 minutes basis (the price of every quarter within an hour is just the price of that hour). <br>\n",
        "Check the pandas 'resample' documentation here: https://pandas.pydata.org/pandas-docs/stable/generated/pandas.DataFrame.resample.html"
      ]
    },
    {
      "cell_type": "code",
      "metadata": {
        "id": "XjnVD1_ixTlo",
        "colab_type": "code",
        "outputId": "2c989ab7-12f2-47b9-ca88-fbc435e97706",
        "colab": {
          "base_uri": "https://localhost:8080/",
          "height": 246
        }
      },
      "source": [
        "df_belpex = df_belpex.resample('15T').pad()\n",
        "print(df_belpex[0:])"
      ],
      "execution_count": 406,
      "outputs": [
        {
          "output_type": "stream",
          "text": [
            "time\n",
            "2016-01-01 00:00:00    23.86\n",
            "2016-01-01 00:15:00    23.86\n",
            "2016-01-01 00:30:00    23.86\n",
            "2016-01-01 00:45:00    23.86\n",
            "2016-01-01 01:00:00    22.39\n",
            "                       ...  \n",
            "2017-12-30 23:00:00    23.49\n",
            "2017-12-30 23:15:00    23.49\n",
            "2017-12-30 23:30:00    23.49\n",
            "2017-12-30 23:45:00    23.49\n",
            "2017-12-31 00:00:00    21.27\n",
            "Freq: 15T, Name: price, Length: 70081, dtype: float64\n"
          ],
          "name": "stdout"
        }
      ]
    },
    {
      "cell_type": "markdown",
      "metadata": {
        "id": "yWu_WtLBxTlq",
        "colab_type": "text"
      },
      "source": [
        "Now we can all add them into one dataframe with 3 columns and a datetime index."
      ]
    },
    {
      "cell_type": "code",
      "metadata": {
        "id": "25A4f_w_xTlr",
        "colab_type": "code",
        "outputId": "d6d6de53-d3c3-4137-f07b-238282bbadfe",
        "colab": {
          "base_uri": "https://localhost:8080/",
          "height": 281
        }
      },
      "source": [
        "d = {'belpex': df_belpex.values.flatten(), 'solar': df_solar.values, 'wind': df_wind.values}\n",
        "data = pd.DataFrame(index=df_belpex.index, data=d)\n",
        "print (data)"
      ],
      "execution_count": 407,
      "outputs": [
        {
          "output_type": "stream",
          "text": [
            "                     belpex  solar  wind\n",
            "time                                    \n",
            "2016-01-01 00:00:00   23.86    0.0  0.47\n",
            "2016-01-01 00:15:00   23.86    0.0  0.43\n",
            "2016-01-01 00:30:00   23.86    0.0  0.41\n",
            "2016-01-01 00:45:00   23.86    0.0  0.41\n",
            "2016-01-01 01:00:00   22.39    0.0  0.40\n",
            "...                     ...    ...   ...\n",
            "2017-12-30 23:00:00   23.49    0.0  0.36\n",
            "2017-12-30 23:15:00   23.49    0.0  0.39\n",
            "2017-12-30 23:30:00   23.49    0.0  0.45\n",
            "2017-12-30 23:45:00   23.49    0.0  0.45\n",
            "2017-12-31 00:00:00   21.27    0.0  0.41\n",
            "\n",
            "[70081 rows x 3 columns]\n"
          ],
          "name": "stdout"
        }
      ]
    },
    {
      "cell_type": "markdown",
      "metadata": {
        "id": "oda_OhHqxTlu",
        "colab_type": "text"
      },
      "source": [
        "Usefull commands\n",
        "* data.head(10) prints the first 10 samples\n",
        "* data.tail(10) prints the last 10 samples\n",
        "* data.$wind$ prints the collumn with label $wind$ \n",
        "* data.wind.plot plots the wind timeseries"
      ]
    },
    {
      "cell_type": "markdown",
      "metadata": {
        "id": "KFF1pYzhxTlw",
        "colab_type": "text"
      },
      "source": [
        "# 1. Visualize the data"
      ]
    },
    {
      "cell_type": "code",
      "metadata": {
        "id": "XxWmZpoWxTlx",
        "colab_type": "code",
        "outputId": "5bb9daec-255a-40f9-86ba-fbcbe5a1064b",
        "colab": {
          "base_uri": "https://localhost:8080/",
          "height": 439
        }
      },
      "source": [
        "print(data.head(10))\n",
        "print(data.tail(10))"
      ],
      "execution_count": 408,
      "outputs": [
        {
          "output_type": "stream",
          "text": [
            "                     belpex  solar  wind\n",
            "time                                    \n",
            "2016-01-01 00:00:00   23.86    0.0  0.47\n",
            "2016-01-01 00:15:00   23.86    0.0  0.43\n",
            "2016-01-01 00:30:00   23.86    0.0  0.41\n",
            "2016-01-01 00:45:00   23.86    0.0  0.41\n",
            "2016-01-01 01:00:00   22.39    0.0  0.40\n",
            "2016-01-01 01:15:00   22.39    0.0  0.35\n",
            "2016-01-01 01:30:00   22.39    0.0  0.33\n",
            "2016-01-01 01:45:00   22.39    0.0  0.32\n",
            "2016-01-01 02:00:00   20.59    0.0  0.26\n",
            "2016-01-01 02:15:00   20.59    0.0  0.21\n",
            "                     belpex  solar  wind\n",
            "time                                    \n",
            "2017-12-30 21:45:00   23.31    0.0  0.52\n",
            "2017-12-30 22:00:00   24.34    0.0  0.50\n",
            "2017-12-30 22:15:00   24.34    0.0  0.48\n",
            "2017-12-30 22:30:00   24.34    0.0  0.42\n",
            "2017-12-30 22:45:00   24.34    0.0  0.39\n",
            "2017-12-30 23:00:00   23.49    0.0  0.36\n",
            "2017-12-30 23:15:00   23.49    0.0  0.39\n",
            "2017-12-30 23:30:00   23.49    0.0  0.45\n",
            "2017-12-30 23:45:00   23.49    0.0  0.45\n",
            "2017-12-31 00:00:00   21.27    0.0  0.41\n"
          ],
          "name": "stdout"
        }
      ]
    },
    {
      "cell_type": "markdown",
      "metadata": {
        "id": "pUI4z6yjxTlz",
        "colab_type": "text"
      },
      "source": [
        "Create a plot of the different collums using matplotlib.\n",
        "\n",
        "Plotting with matplotlib.pyplot is very similar to plotting in matlab. Some key commands:\n",
        "* <b>plt.figure()</b>: creates a new, blank figure. This changes the current graph and axis to the newly created ones. All commands applied hereafter will be applied to the new, current figure.\n",
        "* <b>plt.show()</b>: show the figure. If you don't execute this command, no figure will show.\n",
        "* For more commands, see http://matplotlib.org/users/pyplot_tutorial.html"
      ]
    },
    {
      "cell_type": "code",
      "metadata": {
        "id": "v46_KE8exTl1",
        "colab_type": "code",
        "outputId": "6b3ef7bb-d8f5-4b9c-8b77-29965e54e9ab",
        "colab": {
          "base_uri": "https://localhost:8080/",
          "height": 265
        }
      },
      "source": [
        "start = datetime.datetime(2016, 1, 1, 0, 0)\n",
        "end = datetime.datetime(2016, 1, 14, 23, 45)\n",
        "\n",
        "plt.figure()\n",
        "plt.subplot(311)\n",
        "plt.plot(data.belpex[start:end], label='belpex')\n",
        "plt.legend(frameon=False)\n",
        "plt.subplot(312)\n",
        "plt.plot(data.solar[start:end], label='solar')\n",
        "plt.legend(frameon=False)\n",
        "plt.subplot(313)\n",
        "plt.plot(data.wind[start:end], label='wind')\n",
        "plt.legend(frameon=False)\n",
        "plt.show()"
      ],
      "execution_count": 409,
      "outputs": [
        {
          "output_type": "display_data",
          "data": {
            "image/png": "[encoded data removed]",
            "text/plain": [
              "<Figure size 432x288 with 3 Axes>"
            ]
          },
          "metadata": {
            "tags": [],
            "needs_background": "light"
          }
        }
      ]
    },
    {
      "cell_type": "code",
      "metadata": {
        "id": "5S6bE7k0xTl3",
        "colab_type": "code",
        "outputId": "7994caf8-9db0-49dd-a47b-75b157ee3bde",
        "colab": {
          "base_uri": "https://localhost:8080/",
          "height": 291
        }
      },
      "source": [
        "plt.figure()\n",
        "data.belpex.plot(grid=True)\n",
        "plt.show()"
      ],
      "execution_count": 410,
      "outputs": [
        {
          "output_type": "display_data",
          "data": {
            "image/png": "[encoded data removed]",
            "text/plain": [
              "<Figure size 432x288 with 1 Axes>"
            ]
          },
          "metadata": {
            "tags": [],
            "needs_background": "light"
          }
        }
      ]
    },
    {
      "cell_type": "markdown",
      "metadata": {
        "id": "ebRwTC2XxTl6",
        "colab_type": "text"
      },
      "source": [
        "# 2. Clean the data by removing outliers"
      ]
    },
    {
      "cell_type": "markdown",
      "metadata": {
        "id": "RgRmXRDlxTl7",
        "colab_type": "text"
      },
      "source": [
        "Outliers are mostly difficult, if not impossible, to predict. Therefore, we like to remove them. Moreover, sometimes these outliers are not even correct. "
      ]
    },
    {
      "cell_type": "markdown",
      "metadata": {
        "id": "VsrryKdZxTl8",
        "colab_type": "text"
      },
      "source": [
        "As an example you can check out the belpex price of the year 2011."
      ]
    },
    {
      "cell_type": "code",
      "metadata": {
        "id": "YexWxK8xxTl9",
        "colab_type": "code",
        "outputId": "28ec9bc0-3730-48e9-e260-999140e8f97a",
        "colab": {
          "base_uri": "https://localhost:8080/",
          "height": 282
        }
      },
      "source": [
        "df = pd.read_csv('belpex_20162017.csv', header=0)\n",
        "df.price.plot()"
      ],
      "execution_count": 411,
      "outputs": [
        {
          "output_type": "execute_result",
          "data": {
            "text/plain": [
              "<matplotlib.axes._subplots.AxesSubplot at 0x7f4135c1cc88>"
            ]
          },
          "metadata": {
            "tags": []
          },
          "execution_count": 411
        },
        {
          "output_type": "display_data",
          "data": {
            "image/png": "[encoded data removed]",
            "text/plain": [
              "<Figure size 432x288 with 1 Axes>"
            ]
          },
          "metadata": {
            "tags": [],
            "needs_background": "light"
          }
        }
      ]
    },
    {
      "cell_type": "markdown",
      "metadata": {
        "id": "JT6yx1bxxTl_",
        "colab_type": "text"
      },
      "source": [
        "Read why this happened in this study of the CREG: http://www.creg.be/nl/publicaties/study-on-price-spike-on-belpex-dam-28-march-2011 ."
      ]
    },
    {
      "cell_type": "markdown",
      "metadata": {
        "id": "2KEioYCHxTmA",
        "colab_type": "text"
      },
      "source": [
        "Clue: Use a generic method from statistics that is independent of the timeseries"
      ]
    },
    {
      "cell_type": "code",
      "metadata": {
        "id": "2fjK9AHKxTmA",
        "colab_type": "code",
        "colab": {}
      },
      "source": [
        "mean = data.belpex.mean()\n",
        "std = data.belpex.std()\n",
        "n_std = 5\n",
        "data['belpex'][(data.belpex >= mean + n_std*std)] = mean + n_std*std \n",
        "data['belpex'][(data.belpex <= mean - n_std*std)] = mean + n_std*std "
      ],
      "execution_count": 0,
      "outputs": []
    },
    {
      "cell_type": "code",
      "metadata": {
        "id": "kv3OahuUxTmD",
        "colab_type": "code",
        "outputId": "8a37fe60-7db7-4868-e0d0-170dd77ace9d",
        "colab": {
          "base_uri": "https://localhost:8080/",
          "height": 291
        }
      },
      "source": [
        "plt.figure()\n",
        "data.belpex.plot(grid=True)\n",
        "plt.show()"
      ],
      "execution_count": 413,
      "outputs": [
        {
          "output_type": "display_data",
          "data": {
            "image/png": "[encoded data removed]",
            "text/plain": [
              "<Figure size 432x288 with 1 Axes>"
            ]
          },
          "metadata": {
            "tags": [],
            "needs_background": "light"
          }
        }
      ]
    },
    {
      "cell_type": "markdown",
      "metadata": {
        "id": "IZuma4PzxTmF",
        "colab_type": "text"
      },
      "source": [
        "# 3. Create boxplot"
      ]
    },
    {
      "cell_type": "markdown",
      "metadata": {
        "id": "KQ0v74_pxTmF",
        "colab_type": "text"
      },
      "source": [
        "It is always useful to get more insight in the data you are using."
      ]
    },
    {
      "cell_type": "markdown",
      "metadata": {
        "id": "jEefY6K3xTmG",
        "colab_type": "text"
      },
      "source": [
        "Create a boxplot grouped by\n",
        "* days in the week\n",
        "* months\n",
        "* hours\n",
        "* years\n",
        "\n",
        "http://pandas.pydata.org/pandas-docs/version/0.13.1/visualization.html"
      ]
    },
    {
      "cell_type": "markdown",
      "metadata": {
        "id": "5rNE1UCFxTmG",
        "colab_type": "text"
      },
      "source": [
        "A pandas dataframe has a table like structure. The very first column in the table contains the indices, uniquely identifying each row in the table. These indices can be a set of integers, or like in this case, a set of timestamps, points in time when the specified data was realised.\n",
        "\n",
        "'data.index' will return all timestamps of the dataset as an array. These timestamps have certain attributes available. For a reference, see:\n",
        "http://pandas.pydata.org/pandas-docs/stable/generated/pandas.DatetimeIndex.html\n",
        "\n",
        "Below, attributes of the datetime indices are stored in a new column of the table. This allows us to create box plots grouped by these attributes, such as day of the week, hour, etc."
      ]
    },
    {
      "cell_type": "code",
      "metadata": {
        "scrolled": true,
        "id": "zHJCCv_oxTmH",
        "colab_type": "code",
        "outputId": "ba1cdced-8ba5-466b-81c0-4f6014156183",
        "colab": {
          "base_uri": "https://localhost:8080/",
          "height": 320
        }
      },
      "source": [
        "data['week_days']=data.index.weekday\n",
        "data['month_days']=data.index.day\n",
        "data['hours']=data.index.hour\n",
        "data['months']=data.index.month\n",
        "data['year'] = data.index.year\n",
        "\n",
        "data.boxplot(column='belpex', by='month_days')"
      ],
      "execution_count": 414,
      "outputs": [
        {
          "output_type": "execute_result",
          "data": {
            "text/plain": [
              "<matplotlib.axes._subplots.AxesSubplot at 0x7f4135ebc400>"
            ]
          },
          "metadata": {
            "tags": []
          },
          "execution_count": 414
        },
        {
          "output_type": "display_data",
          "data": {
            "image/png": "[encoded data removed]",
            "text/plain": [
              "<Figure size 432x288 with 1 Axes>"
            ]
          },
          "metadata": {
            "tags": [],
            "needs_background": "light"
          }
        }
      ]
    },
    {
      "cell_type": "code",
      "metadata": {
        "id": "sFRZBNNcxTmJ",
        "colab_type": "code",
        "outputId": "2c21f51d-bc0b-4497-c4cf-27d2136fdc19",
        "colab": {
          "base_uri": "https://localhost:8080/",
          "height": 320
        }
      },
      "source": [
        "data.boxplot(column='belpex', by='week_days')"
      ],
      "execution_count": 415,
      "outputs": [
        {
          "output_type": "execute_result",
          "data": {
            "text/plain": [
              "<matplotlib.axes._subplots.AxesSubplot at 0x7f4133810198>"
            ]
          },
          "metadata": {
            "tags": []
          },
          "execution_count": 415
        },
        {
          "output_type": "display_data",
          "data": {
            "image/png": "[encoded data removed]",
            "text/plain": [
              "<Figure size 432x288 with 1 Axes>"
            ]
          },
          "metadata": {
            "tags": [],
            "needs_background": "light"
          }
        }
      ]
    },
    {
      "cell_type": "code",
      "metadata": {
        "id": "yn0D42fNxTmM",
        "colab_type": "code",
        "outputId": "2cdae9e9-4e1f-414a-d1ad-cc4414d8e02e",
        "colab": {
          "base_uri": "https://localhost:8080/",
          "height": 318
        }
      },
      "source": [
        "data.boxplot(column='belpex', by='hours')"
      ],
      "execution_count": 416,
      "outputs": [
        {
          "output_type": "execute_result",
          "data": {
            "text/plain": [
              "<matplotlib.axes._subplots.AxesSubplot at 0x7f41372cd630>"
            ]
          },
          "metadata": {
            "tags": []
          },
          "execution_count": 416
        },
        {
          "output_type": "display_data",
          "data": {
            "image/png": "[encoded data removed]",
            "text/plain": [
              "<Figure size 432x288 with 1 Axes>"
            ]
          },
          "metadata": {
            "tags": [],
            "needs_background": "light"
          }
        }
      ]
    },
    {
      "cell_type": "code",
      "metadata": {
        "id": "Q8GDQa5SxTmO",
        "colab_type": "code",
        "outputId": "5c62a76c-a30a-452a-ef1f-055f975ecd11",
        "colab": {
          "base_uri": "https://localhost:8080/",
          "height": 318
        }
      },
      "source": [
        "data.boxplot(column='belpex', by='months')"
      ],
      "execution_count": 417,
      "outputs": [
        {
          "output_type": "execute_result",
          "data": {
            "text/plain": [
              "<matplotlib.axes._subplots.AxesSubplot at 0x7f41331cbcf8>"
            ]
          },
          "metadata": {
            "tags": []
          },
          "execution_count": 417
        },
        {
          "output_type": "display_data",
          "data": {
            "image/png": "[encoded data removed]",
            "text/plain": [
              "<Figure size 432x288 with 1 Axes>"
            ]
          },
          "metadata": {
            "tags": [],
            "needs_background": "light"
          }
        }
      ]
    },
    {
      "cell_type": "markdown",
      "metadata": {
        "id": "2dyFUcCZxTmQ",
        "colab_type": "text"
      },
      "source": [
        "Finally, <b>give it a try yourself</b>. Make a boxplot grouped by the year."
      ]
    },
    {
      "cell_type": "code",
      "metadata": {
        "id": "CEYJ1Bt-xTmR",
        "colab_type": "code",
        "outputId": "ec3a3d97-3534-4844-9d6e-df875dd30758",
        "colab": {
          "base_uri": "https://localhost:8080/",
          "height": 318
        }
      },
      "source": [
        "data.boxplot(column='belpex', by= 'year')"
      ],
      "execution_count": 418,
      "outputs": [
        {
          "output_type": "execute_result",
          "data": {
            "text/plain": [
              "<matplotlib.axes._subplots.AxesSubplot at 0x7f4132fb2198>"
            ]
          },
          "metadata": {
            "tags": []
          },
          "execution_count": 418
        },
        {
          "output_type": "display_data",
          "data": {
            "image/png": "[encoded data removed]",
            "text/plain": [
              "<Figure size 432x288 with 1 Axes>"
            ]
          },
          "metadata": {
            "tags": [],
            "needs_background": "light"
          }
        }
      ]
    },
    {
      "cell_type": "markdown",
      "metadata": {
        "id": "OG_2WukhxTmT",
        "colab_type": "text"
      },
      "source": [
        "# 4. Check for randomness in the time series using an autocorrelation plot\n",
        "\n",
        "This is done by computing autocorrelations for data values at varying time lags. If time series is random, such autocorrelations should be near zero for any and all time-lag separations. If time series is non-random then one or more of the autocorrelations will be significantly non-zero. \n",
        "\n",
        "The autocorrelation is the correlation of a timeseries with a delayed copy of itself and is given by:\n",
        "\\begin{equation}\n",
        "R(\\tau) = \\frac{E[(X_{t}-\\mu)(X_{t+\\tau}-\\mu)]}{\\sigma^2}\n",
        "\\end{equation}\n",
        "where $X_t$ is the time series and $\\tau$ is the time-lag.\n",
        "\n",
        "How to make an autocorrelation plot using pandas in python:\n",
        "http://pandas.pydata.org/pandas-docs/stable/visualization.html#visualization-autocorrelation"
      ]
    },
    {
      "cell_type": "code",
      "metadata": {
        "id": "MSvkMzJwxTmU",
        "colab_type": "code",
        "outputId": "1bf9a957-6205-4e35-e4cf-d2c1c69d6e41",
        "colab": {
          "base_uri": "https://localhost:8080/",
          "height": 279
        }
      },
      "source": [
        "# Autocorrelation\n",
        "lags = np.arange(1, 96*10)\n",
        "acors = []\n",
        "for lag in lags:\n",
        "    acors.append(data.belpex.autocorr(lag))\n",
        "plt.figure()\n",
        "plt.plot(lags/4/24.0, acors)\n",
        "plt.xlabel('Time lag in days')\n",
        "plt.grid(True)"
      ],
      "execution_count": 419,
      "outputs": [
        {
          "output_type": "display_data",
          "data": {
            "image/png": "[encoded data removed]",
            "text/plain": [
              "<Figure size 432x288 with 1 Axes>"
            ]
          },
          "metadata": {
            "tags": [],
            "needs_background": "light"
          }
        }
      ]
    },
    {
      "cell_type": "markdown",
      "metadata": {
        "id": "k-1nEsvVxTmX",
        "colab_type": "text"
      },
      "source": [
        "# 5. Create a scatter matrix "
      ]
    },
    {
      "cell_type": "markdown",
      "metadata": {
        "id": "xRUzkywNxTmX",
        "colab_type": "text"
      },
      "source": [
        "<b>Why use a scatter plot matrix?</b>\n",
        "\n",
        "You have three types of data:\n",
        "* electricity price $p$\n",
        "* solar generation $s$\n",
        "* wind generation $w$\n",
        "\n",
        "For certain moments in time, we have three data points. This means we could think of our dataset as points in a four-dimensional space:\n",
        "$$\\begin{Bmatrix}t\\\\p\\\\s\\\\w\\end{Bmatrix}$$\n",
        "\n",
        "Unless you can think of your dataset in four dimensions, let's make it a bit easier. First, we strip away the time dimension. This leaves us with a more dense three-dimensional space containing all our samples. Still, we don't like to think in three dimensions. So let's just try all possible pairs of the remaining dimensions.\n",
        "\n",
        "We visualize each pair with a scatter plot. A scatter plot is simply a graph with dots, which are not connected. Hence, we get a matrix of scatter plots, a scatter matrix.\n",
        "\n",
        "We do all of this to explore our dataset, and find relationships in our data. For example, if the 'price vs solar generation' scatter plot shows dots centered around a straight line, then we can conclude that there is a linear relationship between price and solar generation. This is something that we could exploit later on, when we make our model. "
      ]
    },
    {
      "cell_type": "code",
      "metadata": {
        "id": "qaLlDC4nxTmY",
        "colab_type": "code",
        "outputId": "3a3d87cd-4d72-4294-92af-564a5fa97873",
        "colab": {
          "base_uri": "https://localhost:8080/",
          "height": 284
        }
      },
      "source": [
        "import pandas as pd\n",
        "a = pd.plotting.scatter_matrix(data[['belpex', 'solar', 'wind']])"
      ],
      "execution_count": 420,
      "outputs": [
        {
          "output_type": "display_data",
          "data": {
            "image/png": "[encoded data removed]",
            "text/plain": [
              "<Figure size 432x288 with 9 Axes>"
            ]
          },
          "metadata": {
            "tags": [],
            "needs_background": "light"
          }
        }
      ]
    },
    {
      "cell_type": "markdown",
      "metadata": {
        "id": "4og7s8ZmxTma",
        "colab_type": "text"
      },
      "source": [
        "If the diagonal is not what you would expect, then you are right. For more information, see\n",
        "\n",
        "http://stackoverflow.com/questions/26360759/understanding-the-diagonal-in-pandas-scatter-matrix-plot"
      ]
    },
    {
      "cell_type": "markdown",
      "metadata": {
        "id": "sOqQiDqPxTmb",
        "colab_type": "text"
      },
      "source": [
        "# 6. Linear regression"
      ]
    },
    {
      "cell_type": "markdown",
      "metadata": {
        "id": "q499XMCuxTmb",
        "colab_type": "text"
      },
      "source": [
        "Metric to define the quality of the foreceast"
      ]
    },
    {
      "cell_type": "code",
      "metadata": {
        "id": "2XMwoR2QxTme",
        "colab_type": "code",
        "colab": {}
      },
      "source": [
        "def get_accuracy(x, y):\n",
        "    return np.mean(np.abs(x - y))/np.mean(x)"
      ],
      "execution_count": 0,
      "outputs": []
    },
    {
      "cell_type": "markdown",
      "metadata": {
        "id": "W6dXOawnxTmg",
        "colab_type": "text"
      },
      "source": [
        "In this section, we will use the scikit learn toolbox. For more information, see\n",
        "* [API reference](http://scikit-learn.org/stable/modules/classes.html#module-sklearn.model_selection)\n",
        "* [Tutorials](http://scikit-learn.org/stable/tutorial/index.html)"
      ]
    },
    {
      "cell_type": "code",
      "metadata": {
        "id": "cZx3NvYyxTmh",
        "colab_type": "code",
        "outputId": "38b491bd-44f7-4c80-99f2-4fa42cb78e72",
        "colab": {
          "base_uri": "https://localhost:8080/",
          "height": 72
        }
      },
      "source": [
        "from sklearn.linear_model import LinearRegression, Ridge\n",
        "model = LinearRegression(normalize=True)\n",
        "lags = [24*4] + list(range(96*7, 96*35, 96))+[24*7]\n",
        "features = ['wind', 'solar']\n",
        "print(lags)\n",
        "len(lags)"
      ],
      "execution_count": 424,
      "outputs": [
        {
          "output_type": "stream",
          "text": [
            "[96, 672, 768, 864, 960, 1056, 1152, 1248, 1344, 1440, 1536, 1632, 1728, 1824, 1920, 2016, 2112, 2208, 2304, 2400, 2496, 2592, 2688, 2784, 2880, 2976, 3072, 3168, 3264, 168]\n"
          ],
          "name": "stdout"
        },
        {
          "output_type": "execute_result",
          "data": {
            "text/plain": [
              "30"
            ]
          },
          "metadata": {
            "tags": []
          },
          "execution_count": 424
        }
      ]
    },
    {
      "cell_type": "code",
      "metadata": {
        "id": "jdacSHmmxTmj",
        "colab_type": "code",
        "outputId": "b32ad01e-0770-4971-a71a-5656c6fb9832",
        "colab": {
          "base_uri": "https://localhost:8080/",
          "height": 34
        }
      },
      "source": [
        "index = data.index \n",
        "for lag in lags:\n",
        "    data['belpex_lag_{}'.format(lag)] = data.belpex.shift(lag)\n",
        "    features.append('belpex_lag_{}'.format(lag))\n",
        "data['day_in_year'] = data.index.dayofyear\n",
        "#data = data.loc[index, :]\n",
        "data = data.dropna()\n",
        "\n",
        "X = data[features]\n",
        "y = data.belpex\n",
        "\n",
        "cv = KFold(n_splits=10, shuffle=False)\n",
        "data['belpex_pred'] = cross_val_predict(model, X, y, cv=cv, n_jobs=-1)\n",
        "\n",
        "print(get_accuracy(data.belpex, data.belpex_pred))\n",
        "\n"
      ],
      "execution_count": 425,
      "outputs": [
        {
          "output_type": "stream",
          "text": [
            "0.15718244237883172\n"
          ],
          "name": "stdout"
        }
      ]
    },
    {
      "cell_type": "code",
      "metadata": {
        "id": "DpvXUZQlxTmm",
        "colab_type": "code",
        "outputId": "b82ad3dd-d1be-4216-96d9-2e36f225a8a9",
        "colab": {
          "base_uri": "https://localhost:8080/",
          "height": 54
        }
      },
      "source": [
        "print(features)"
      ],
      "execution_count": 426,
      "outputs": [
        {
          "output_type": "stream",
          "text": [
            "['wind', 'solar', 'belpex_lag_96', 'belpex_lag_672', 'belpex_lag_768', 'belpex_lag_864', 'belpex_lag_960', 'belpex_lag_1056', 'belpex_lag_1152', 'belpex_lag_1248', 'belpex_lag_1344', 'belpex_lag_1440', 'belpex_lag_1536', 'belpex_lag_1632', 'belpex_lag_1728', 'belpex_lag_1824', 'belpex_lag_1920', 'belpex_lag_2016', 'belpex_lag_2112', 'belpex_lag_2208', 'belpex_lag_2304', 'belpex_lag_2400', 'belpex_lag_2496', 'belpex_lag_2592', 'belpex_lag_2688', 'belpex_lag_2784', 'belpex_lag_2880', 'belpex_lag_2976', 'belpex_lag_3072', 'belpex_lag_3168', 'belpex_lag_3264', 'belpex_lag_168']\n"
          ],
          "name": "stdout"
        }
      ]
    },
    {
      "cell_type": "code",
      "metadata": {
        "id": "T6huknxt_PGK",
        "colab_type": "code",
        "outputId": "4200f83d-512f-4b1b-88a5-2fafc20e0225",
        "colab": {
          "base_uri": "https://localhost:8080/",
          "height": 246
        }
      },
      "source": [
        "print(X.belpex_lag_96)"
      ],
      "execution_count": 427,
      "outputs": [
        {
          "output_type": "stream",
          "text": [
            "time\n",
            "2016-02-04 00:00:00    17.59\n",
            "2016-02-04 00:15:00    17.59\n",
            "2016-02-04 00:30:00    17.59\n",
            "2016-02-04 00:45:00    17.59\n",
            "2016-02-04 01:00:00    13.34\n",
            "                       ...  \n",
            "2017-12-30 23:00:00    40.66\n",
            "2017-12-30 23:15:00    40.66\n",
            "2017-12-30 23:30:00    40.66\n",
            "2017-12-30 23:45:00    40.66\n",
            "2017-12-31 00:00:00    23.10\n",
            "Freq: 15T, Name: belpex_lag_96, Length: 66817, dtype: float64\n"
          ],
          "name": "stdout"
        }
      ]
    },
    {
      "cell_type": "code",
      "metadata": {
        "id": "gXg9HMzJxTmp",
        "colab_type": "code",
        "outputId": "fd5cd9da-b736-4906-bc78-9f28ccc87eea",
        "colab": {
          "base_uri": "https://localhost:8080/",
          "height": 304
        }
      },
      "source": [
        "start = datetime.datetime(2017, 1, 1, 0, 0)\n",
        "end = datetime.datetime(2017, 1, 7, 23, 45)\n",
        "\n",
        "plt.figure()\n",
        "data.belpex[start:end].plot(grid=True)\n",
        "data.belpex_pred[start:end].plot(grid=True)\n",
        "plt.legend(frameon=False,loc=2)\n",
        "plt.show()"
      ],
      "execution_count": 428,
      "outputs": [
        {
          "output_type": "display_data",
          "data": {
            "image/png": "[encoded data removed]",
            "text/plain": [
              "<Figure size 432x288 with 1 Axes>"
            ]
          },
          "metadata": {
            "tags": [],
            "needs_background": "light"
          }
        }
      ]
    },
    {
      "cell_type": "markdown",
      "metadata": {
        "id": "Oigk8VHqxTmu",
        "colab_type": "text"
      },
      "source": [
        "# 7. Neural network (a naive implementation)"
      ]
    },
    {
      "cell_type": "code",
      "metadata": {
        "id": "OAGnXkSLxTmw",
        "colab_type": "code",
        "colab": {}
      },
      "source": [
        "import os"
      ],
      "execution_count": 0,
      "outputs": []
    },
    {
      "cell_type": "code",
      "metadata": {
        "id": "yvnp5RpIoa-L",
        "colab_type": "code",
        "outputId": "c013f263-2fab-4a3e-cb7c-d2cec82fefca",
        "colab": {
          "base_uri": "https://localhost:8080/",
          "height": 34
        }
      },
      "source": [
        "%tensorflow_version 1.x"
      ],
      "execution_count": 430,
      "outputs": [
        {
          "output_type": "stream",
          "text": [
            "TensorFlow is already loaded. Please restart the runtime to change versions.\n"
          ],
          "name": "stdout"
        }
      ]
    },
    {
      "cell_type": "code",
      "metadata": {
        "id": "VftatxBnxTm1",
        "colab_type": "code",
        "colab": {}
      },
      "source": [
        "from keras.models import Sequential\n",
        "from keras.layers.core import Dense\n",
        "from keras.optimizers import RMSprop, SGD"
      ],
      "execution_count": 0,
      "outputs": []
    },
    {
      "cell_type": "markdown",
      "metadata": {
        "id": "NAuWmibuxTm5",
        "colab_type": "text"
      },
      "source": [
        "Create input and output training data. <br>\n",
        "We will just predict the next day, based on the previous day."
      ]
    },
    {
      "cell_type": "code",
      "metadata": {
        "id": "JT3EjKoxxTm7",
        "colab_type": "code",
        "colab": {}
      },
      "source": [
        "n_hours = 24\n",
        "start = datetime.datetime(2017, 1, 1, 0, 0)\n",
        "end = datetime.datetime(2017, 12, 29, 23, 45)\n",
        "X = data['belpex'][start:end].resample('1H').mean().values.reshape(-1, n_hours)\n",
        "X_wind = data['wind'][start:end].resample('24H').mean().values.reshape(-1, 1)\n",
        "X_solar = data['solar'][start:end].resample('24H').mean().values.reshape(-1, 1)\n",
        "X_lag = data['belpex_lag_96'][start:end].resample('24H').mean().values.reshape(-1, 1)\n",
        "X_lag1 = data['belpex_lag_168'][start:end].resample('24H').mean().values.reshape(-1, 1)\n",
        "#X_lag2 = data['belpex_lag_672'][start:end].resample('24H').mean().values.reshape(-1, 1)\n",
        "#X_lag3 = data['belpex_lag_768'][start:end].resample('24H').mean().values.reshape(-1, 1)\n",
        "\n",
        "\n",
        "\n",
        "\n",
        "X = np.hstack((X,X_wind))\n",
        "X = np.hstack((X,X_solar))\n",
        "X = np.hstack((X,X_lag))\n",
        "X = np.hstack((X,X_lag1))\n",
        "#X = np.hstack((X,X_lag2))\n",
        "#X = np.hstack((X,X_lag3))\n",
        "\n",
        "start = datetime.datetime(2017, 1, 2, 0, 0)\n",
        "end = datetime.datetime(2017, 12, 30, 23, 45)\n",
        "Y = data['belpex'][start:end].resample('1H').mean().values.reshape(-1, n_hours)"
      ],
      "execution_count": 0,
      "outputs": []
    },
    {
      "cell_type": "code",
      "metadata": {
        "id": "x_SOrR50xTm9",
        "colab_type": "code",
        "outputId": "149418cf-4a7a-43b2-e049-ad0b23dc8de5",
        "colab": {
          "base_uri": "https://localhost:8080/",
          "height": 34
        }
      },
      "source": [
        "print(data['belpex'][start:end].resample('1H').mean().shape)"
      ],
      "execution_count": 433,
      "outputs": [
        {
          "output_type": "stream",
          "text": [
            "(8712,)\n"
          ],
          "name": "stdout"
        }
      ]
    },
    {
      "cell_type": "code",
      "metadata": {
        "id": "9pQkJsjQxTnB",
        "colab_type": "code",
        "outputId": "3d6f6e04-424b-4e4d-a5a2-f99a7476d2d2",
        "colab": {
          "base_uri": "https://localhost:8080/",
          "height": 52
        }
      },
      "source": [
        "print('input_features ' + str(X.shape))\n",
        "print('target dimensions ' + str(Y.shape))"
      ],
      "execution_count": 434,
      "outputs": [
        {
          "output_type": "stream",
          "text": [
            "input_features (363, 28)\n",
            "target dimensions (363, 24)\n"
          ],
          "name": "stdout"
        }
      ]
    },
    {
      "cell_type": "markdown",
      "metadata": {
        "id": "-hDaP3QyxTnE",
        "colab_type": "text"
      },
      "source": [
        "Create neural network with one hidden layer"
      ]
    },
    {
      "cell_type": "code",
      "metadata": {
        "id": "_mwkQVsKxTnF",
        "colab_type": "code",
        "colab": {}
      },
      "source": [
        "from sklearn.model_selection import KFold # import KFold\n",
        "from sklearn.model_selection import RepeatedKFold # import KFold\n",
        "from keras.callbacks import EarlyStopping\n",
        "from sklearn.model_selection import TimeSeriesSplit\n",
        "from keras.models import Sequential\n",
        "from keras.layers import Convolution2D\n",
        "from keras.layers import MaxPooling2D\n",
        "from keras.layers import Flatten\n",
        "from keras.layers import Dense\n",
        "\n",
        "import tensorflow as tf\n",
        "import keras\n",
        "\n",
        "\n",
        "\n",
        "neurons = [28, 100, 24]\n",
        "activation_functions = ['relu', 'linear', 'selu']\n",
        "\n",
        "model = Sequential()\n",
        "model.add(Dense(neurons[0], input_dim=X.shape[1], activation=activation_functions[0]))\n",
        "\n",
        "model.add(Dense(neurons[1], activation=activation_functions[2]))\n",
        "model.add (Dense(neurons[1],activation=activation_functions[2]))\n",
        "model.add (Dense(neurons[1],activation=activation_functions[2]))\n",
        "model.add (Dense(neurons[1],activation=activation_functions[2]))\n",
        "model.add (Dense(neurons[1],activation=activation_functions[2]))\n",
        "model.add (Dense(neurons[1],activation=activation_functions[2]))\n",
        "model.add (Dense(neurons[2],activation=activation_functions[1]))\n",
        "\n",
        "    \n",
        "rprop = RMSprop(lr=0.001, rho=0.9, epsilon=1e-6)\n",
        "model.compile(loss='mean_squared_error', optimizer=rprop)"
      ],
      "execution_count": 0,
      "outputs": []
    },
    {
      "cell_type": "code",
      "metadata": {
        "scrolled": true,
        "id": "9G8S8FiIxTnH",
        "colab_type": "code",
        "outputId": "cc88e134-fce0-4fd0-c171-6ab749717f49",
        "colab": {
          "base_uri": "https://localhost:8080/",
          "height": 34
        }
      },
      "source": [
        "output_training = model.fit(X, Y, epochs=2500, batch_size=32, verbose=0)\n",
        "mse = output_training.history['loss'][-1]\n",
        "print('- mse is %.4f' % mse + ' @ ' + str(len(output_training.history['loss'])))"
      ],
      "execution_count": 436,
      "outputs": [
        {
          "output_type": "stream",
          "text": [
            "- mse is 1.7021 @ 2500\n"
          ],
          "name": "stdout"
        }
      ]
    },
    {
      "cell_type": "code",
      "metadata": {
        "id": "YHL0_9EJxTnL",
        "colab_type": "code",
        "outputId": "47a5a033-9e1a-4b85-addf-59b3715d2d5c",
        "colab": {
          "base_uri": "https://localhost:8080/",
          "height": 34
        }
      },
      "source": [
        "predict_nn = model.predict(X)\n",
        "\n",
        "print(get_accuracy(Y.flatten(), predict_nn.flatten()))\n"
      ],
      "execution_count": 437,
      "outputs": [
        {
          "output_type": "stream",
          "text": [
            "0.019831234888826866\n"
          ],
          "name": "stdout"
        }
      ]
    },
    {
      "cell_type": "code",
      "metadata": {
        "scrolled": true,
        "id": "22m6HsLuxTnP",
        "colab_type": "code",
        "outputId": "87280991-b0b3-4772-bd26-893e948420e6",
        "colab": {
          "base_uri": "https://localhost:8080/",
          "height": 267
        }
      },
      "source": [
        "# Plots\n",
        "plt.figure()\n",
        "plt.plot(Y[:10,:].flatten(), color='blue', label='actual price')\n",
        "plt.plot(predict_nn[:10,:].flatten(), color='red', label='forecast NN')\n",
        "plt.legend(frameon=False)\n",
        "plt.show()"
      ],
      "execution_count": 438,
      "outputs": [
        {
          "output_type": "display_data",
          "data": {
            "image/png": "[encoded data removed]",
            "text/plain": [
              "<Figure size 432x288 with 1 Axes>"
            ]
          },
          "metadata": {
            "tags": [],
            "needs_background": "light"
          }
        }
      ]
    },
    {
      "cell_type": "markdown",
      "metadata": {
        "id": "adrGkBPcxTnS",
        "colab_type": "text"
      },
      "source": [
        "# 8. Assignment: Improve the naive implementation in Step 7"
      ]
    },
    {
      "cell_type": "markdown",
      "metadata": {
        "id": "u9-dLsvFxTnT",
        "colab_type": "text"
      },
      "source": [
        "\n",
        "* Create test and validation set\n",
        "    * https://en.wikipedia.org/wiki/Test_set\n",
        "    * http://stats.stackexchange.com/questions/19048/what-is-the-difference-between-test-set-and-validation-set\n",
        "* Add additional features\n",
        "    * same day of the previous week (see autocorrelation plot)\n",
        "    * use a wind and solar forecast as an additional feature (assume you can make perfect forecasts)\n",
        "    * Use EliaTotalLoad from datafetcher\n",
        "    * Are there other features that have an influence on the price and thus may affect prediction performance\n",
        "* Tune the structure of the neural network (use grid search)\n",
        "    * number of layers\n",
        "        * http://stats.stackexchange.com/questions/181/how-to-choose-the-number-of-hidden-layers-and-nodes-in-a-feedforward-neural-netw\n",
        "    * different activation functions\n",
        "        * https://en.wikipedia.org/wiki/Activation_function"
      ]
    },
    {
      "cell_type": "markdown",
      "metadata": {
        "id": "HWmKzuTdxTnU",
        "colab_type": "text"
      },
      "source": [
        "Advice: read the documentation on https://keras.io/ for help"
      ]
    },
    {
      "cell_type": "code",
      "metadata": {
        "id": "IJWb4ZVvdN7U",
        "colab_type": "code",
        "outputId": "ddfbf494-43cd-4672-84aa-e43ffc0d23a9",
        "colab": {
          "base_uri": "https://localhost:8080/",
          "height": 52
        }
      },
      "source": [
        "n_hours = 24\n",
        "start = datetime.datetime(2017, 5, 19, 0, 0)\n",
        "end = datetime.datetime(2017, 12, 26, 23, 45)\n",
        "\n",
        "\n",
        "X_V = data['belpex'][start:end].resample('1H').mean().values.reshape(-1, n_hours)\n",
        "X_wind = data['wind'][start:end].resample('24H').mean().values.reshape(-1, 1)\n",
        "X_solar = data['solar'][start:end].resample('24H').mean().values.reshape(-1, 1)\n",
        "X_lag = data['belpex_lag_168'][start:end].resample('24H').mean().values.reshape(-1, 1)\n",
        "X_lag1 = data['belpex_lag_96'][start:end].resample('24H').mean().values.reshape(-1, 1)\n",
        "#X_lag2 = data['belpex_lag_672'][start:end].resample('24H').mean().values.reshape(-1, 1)\n",
        "\n",
        "X_V = np.hstack((X_V,X_wind))\n",
        "X_V = np.hstack((X_V,X_solar))\n",
        "X_V = np.hstack((X_V,X_lag))\n",
        "X_V = np.hstack((X_V,X_lag1))\n",
        "#X_V = np.hstack((X_V,X_lag2))\n",
        "\n",
        "\n",
        "start = datetime.datetime(2017, 5, 22, 0, 0)\n",
        "end = datetime.datetime(2017, 12, 29, 23, 45)\n",
        "Y_V = data['belpex'][start:end].resample('1H').mean().values.reshape(-1, n_hours)\n",
        "\n",
        "#X_V = keras.backend.reshape(X_V, shape=(259, 24))\n",
        "\n",
        "print('input_features ' + str(X_V.shape))\n",
        "print('target dimensions ' + str(Y_V.shape))\n"
      ],
      "execution_count": 439,
      "outputs": [
        {
          "output_type": "stream",
          "text": [
            "input_features (222, 28)\n",
            "target dimensions (222, 24)\n"
          ],
          "name": "stdout"
        }
      ]
    },
    {
      "cell_type": "code",
      "metadata": {
        "id": "pzxhRatJ35K2",
        "colab_type": "code",
        "outputId": "dead643b-d813-4823-e38d-77774b50a934",
        "colab": {
          "base_uri": "https://localhost:8080/",
          "height": 34
        }
      },
      "source": [
        "kf = RepeatedKFold(n_splits=3, n_repeats=2, random_state=None) # Define the split - into 2 folds \n",
        "kf.get_n_splits(X_V) # returns the number of splitting iterations in the cross-validator\n",
        "print(kf) "
      ],
      "execution_count": 440,
      "outputs": [
        {
          "output_type": "stream",
          "text": [
            "RepeatedKFold(n_repeats=2, n_splits=3, random_state=None)\n"
          ],
          "name": "stdout"
        }
      ]
    },
    {
      "cell_type": "code",
      "metadata": {
        "id": "Zq3rOy1aM_j5",
        "colab_type": "code",
        "outputId": "72e2881b-4ae5-43ac-c905-1c57b7502e58",
        "colab": {
          "base_uri": "https://localhost:8080/",
          "height": 178
        }
      },
      "source": [
        "earlyStopping=EarlyStopping(monitor='val_loss', patience=500, verbose=0, mode='auto')\n",
        "\n",
        "rprop = RMSprop(lr=0.001, rho=0.9, epsilon=1e-6)\n",
        "model.compile(loss='mean_squared_error', optimizer=rprop)\n",
        "\n",
        "for train_index, test_index in kf.split(X_V):\n",
        "    output_test = model.fit(X_V[train_index], Y_V[train_index], epochs=2500, batch_size=24, verbose=0, callbacks=[earlyStopping])\n",
        "    mse = output_test.history['loss'][-1]\n",
        "    print('- mse is %.4f' % mse + ' @ ' + str(len(output_training.history['loss'])))"
      ],
      "execution_count": 441,
      "outputs": [
        {
          "output_type": "stream",
          "text": [
            "/usr/local/lib/python3.6/dist-packages/keras/callbacks/callbacks.py:846: RuntimeWarning: Early stopping conditioned on metric `val_loss` which is not available. Available metrics are: loss\n",
            "  (self.monitor, ','.join(list(logs.keys()))), RuntimeWarning\n"
          ],
          "name": "stderr"
        },
        {
          "output_type": "stream",
          "text": [
            "- mse is 0.5455 @ 2500\n",
            "- mse is 1.2540 @ 2500\n",
            "- mse is 0.3472 @ 2500\n",
            "- mse is 0.1023 @ 2500\n",
            "- mse is 0.1810 @ 2500\n",
            "- mse is 0.1562 @ 2500\n"
          ],
          "name": "stdout"
        }
      ]
    },
    {
      "cell_type": "code",
      "metadata": {
        "id": "xyeuGndqXMNG",
        "colab_type": "code",
        "outputId": "45c5e073-d716-40cc-aa83-87d408619422",
        "colab": {
          "base_uri": "https://localhost:8080/",
          "height": 34
        }
      },
      "source": [
        "predict_nn = model.predict(X_V)\n",
        "\n",
        "print(get_accuracy(Y_V.flatten(), predict_nn.flatten()))"
      ],
      "execution_count": 442,
      "outputs": [
        {
          "output_type": "stream",
          "text": [
            "0.054377080877419416\n"
          ],
          "name": "stdout"
        }
      ]
    },
    {
      "cell_type": "code",
      "metadata": {
        "id": "8WXZiMyrbXpD",
        "colab_type": "code",
        "outputId": "15429bee-7461-4885-82ab-4c2d850d4030",
        "colab": {
          "base_uri": "https://localhost:8080/",
          "height": 263
        }
      },
      "source": [
        "from sklearn.metrics import mean_squared_error\n",
        "\n",
        "n_hours = 24\n",
        "start = datetime.datetime(2017, 8, 1, 0, 0)\n",
        "end = datetime.datetime(2017, 12, 29, 23, 45)\n",
        "X_fin = data['belpex'][start:end].resample('1H').mean().values.reshape(-1, n_hours)\n",
        "\n",
        "X_wind = data['wind'][start:end].resample('24H').mean().values.reshape(-1, 1)\n",
        "X_solar = data['solar'][start:end].resample('24H').mean().values.reshape(-1, 1)\n",
        "X_lag = data['belpex_lag_168'][start:end].resample('24H').mean().values.reshape(-1, 1)\n",
        "X_lag1 = data['belpex_lag_96'][start:end].resample('24H').mean().values.reshape(-1, 1)\n",
        "#X_lag2 = data['belpex_lag_672'][start:end].resample('24H').mean().values.reshape(-1, 1)\n",
        "\n",
        "X_final = np.hstack((X_fin,X_wind))\n",
        "X_final = np.hstack((X_final,X_solar))\n",
        "X_final = np.hstack((X_final,X_lag))\n",
        "X_final = np.hstack((X_final,X_lag1))\n",
        "#X_final = np.hstack((X_final,X_lag2))\n",
        "\n",
        "start = datetime.datetime(2017, 8, 2, 0, 0)\n",
        "end = datetime.datetime(2017, 12, 30, 23, 45)\n",
        "Y_final = data['belpex'][start:end].resample('1H').mean().values.reshape(-1, n_hours) \n",
        "\n",
        "predict_nn=model.predict(X_final)\n",
        "\n",
        "print (predict_nn)\n",
        "print (Y_final)\n",
        "\n",
        "\n"
      ],
      "execution_count": 443,
      "outputs": [
        {
          "output_type": "stream",
          "text": [
            "[[25.158554 23.756044 22.684422 ... 35.28962  34.88469  40.25549 ]\n",
            " [32.301785 25.521294 25.353285 ... 33.95291  33.86255  32.2762  ]\n",
            " [25.667028 20.521427 18.54187  ... 35.860012 35.860092 34.730843]\n",
            " ...\n",
            " [47.39087  47.17217  40.957245 ... 57.588203 51.580032 46.84002 ]\n",
            " [37.879562 35.627087 31.701996 ... 39.32412  38.228687 36.106766]\n",
            " [39.174416 38.167793 31.41945  ... 49.4517   50.83922  42.861843]]\n",
            "[[27.62 26.59 26.2  ... 36.77 37.53 34.46]\n",
            " [28.1  26.47 24.76 ... 31.85 29.69 26.51]\n",
            " [25.   23.65 22.36 ... 34.93 34.96 39.93]\n",
            " ...\n",
            " [31.16 30.   28.1  ... 40.58 38.23 34.08]\n",
            " [34.08 35.77 43.77 ... 37.59 37.99 40.66]\n",
            " [23.1  23.37 22.55 ... 23.31 24.34 23.49]]\n"
          ],
          "name": "stdout"
        }
      ]
    },
    {
      "cell_type": "markdown",
      "metadata": {
        "id": "iiazwClrfeqg",
        "colab_type": "text"
      },
      "source": [
        "Plotting Predictions vs Original Data"
      ]
    },
    {
      "cell_type": "code",
      "metadata": {
        "id": "VQDPLObzetgh",
        "colab_type": "code",
        "colab": {
          "base_uri": "https://localhost:8080/",
          "height": 265
        },
        "outputId": "187ea985-7ef9-40dd-a33f-78f0b4c55b2b"
      },
      "source": [
        "plt.figure()\n",
        "plt.plot(X_fin[:5,:].flatten(), color='blue', label='Orignal Price')\n",
        "plt.plot(predict_nn[:5,:].flatten(), color='red', label='Predicted')\n",
        "plt.legend(frameon=False)\n",
        "plt.grid()\n",
        "plt.autoscale()\n",
        "plt.show()"
      ],
      "execution_count": 444,
      "outputs": [
        {
          "output_type": "display_data",
          "data": {
            "image/png": "[encoded data removed]",
            "text/plain": [
              "<Figure size 432x288 with 1 Axes>"
            ]
          },
          "metadata": {
            "tags": [],
            "needs_background": "light"
          }
        }
      ]
    },
    {
      "cell_type": "code",
      "metadata": {
        "id": "CKpmBZRtfo5R",
        "colab_type": "code",
        "colab": {
          "base_uri": "https://localhost:8080/",
          "height": 282
        },
        "outputId": "2400c733-3c60-4b69-852f-d50008a5b2aa"
      },
      "source": [
        "plt.figure()\n",
        "plt.plot(Y_final[:100,:].flatten(), color='blue', label='previous price')"
      ],
      "execution_count": 445,
      "outputs": [
        {
          "output_type": "execute_result",
          "data": {
            "text/plain": [
              "[<matplotlib.lines.Line2D at 0x7f413234e160>]"
            ]
          },
          "metadata": {
            "tags": []
          },
          "execution_count": 445
        },
        {
          "output_type": "display_data",
          "data": {
            "image/png": "[encoded data removed]",
            "text/plain": [
              "<Figure size 432x288 with 1 Axes>"
            ]
          },
          "metadata": {
            "tags": [],
            "needs_background": "light"
          }
        }
      ]
    },
    {
      "cell_type": "code",
      "metadata": {
        "id": "MgWThmJZfxLy",
        "colab_type": "code",
        "colab": {
          "base_uri": "https://localhost:8080/",
          "height": 34
        },
        "outputId": "9af92edb-bcc1-4c31-e728-c6e5be58e72d"
      },
      "source": [
        "mean_squared_error(Y_final, predict_nn)"
      ],
      "execution_count": 446,
      "outputs": [
        {
          "output_type": "execute_result",
          "data": {
            "text/plain": [
              "363.04864236417137"
            ]
          },
          "metadata": {
            "tags": []
          },
          "execution_count": 446
        }
      ]
    },
    {
      "cell_type": "code",
      "metadata": {
        "id": "FNd2A7gvmkuJ",
        "colab_type": "code",
        "colab": {
          "base_uri": "https://localhost:8080/",
          "height": 34
        },
        "outputId": "48c5623c-a0d5-441c-e6ac-225a79d44000"
      },
      "source": [
        "mean_squared_error(Y_final[:20,:], predict_nn[:20,:])\n",
        "print('input_features ' + str(predict_nn.shape))"
      ],
      "execution_count": 447,
      "outputs": [
        {
          "output_type": "stream",
          "text": [
            "input_features (151, 24)\n"
          ],
          "name": "stdout"
        }
      ]
    },
    {
      "cell_type": "code",
      "metadata": {
        "id": "O6s4siaBsrj5",
        "colab_type": "code",
        "colab": {
          "base_uri": "https://localhost:8080/",
          "height": 34
        },
        "outputId": "1452a77f-cce4-4a09-fef0-ae0cde31799f"
      },
      "source": [
        "\n",
        "#Starting Date of the data-set in CSV file\n",
        "start1 = dt.datetime(2018,1,1,0,0) \n",
        "#Ending Date of the data-set in CSV file\n",
        "end1 = dt.datetime(2018,1,7,23,0)\n",
        "\n",
        "import csv\n",
        "from datetime import datetime\n",
        "\n",
        "date_rng = pd.date_range(start='1/1/2018 00:00', end='1/08/2018 00:00', freq='H')\n",
        "\n",
        "df = pd.DataFrame(date_rng, columns=['date'])\n",
        "df_belpex1_prices = pd.read_csv('belpex_week_3.csv', header=0)\n",
        "#print(df_belpex1_prices)\n",
        "df['prices']=df_belpex1_prices\n",
        "dfp=df.prices\n",
        "df['date'] = pd.to_datetime(df['date'])\n",
        "df.set_index('date', inplace=True)\n",
        "df = df.resample('15T').pad()\n",
        "df = df.iloc[0:672,]\n",
        "d11 = {'belpexa': df.values.flatten()}\n",
        "data = pd.DataFrame(index=df.index, data=d11)\n",
        "#print(data)\n",
        "#Starting Date of the data-set in CSV file\n",
        "start1 = dt.datetime(2018,1,1,0,0) \n",
        "#Ending Date of the data-set in CSV file\n",
        "end1 = dt.datetime(2018,1,7,23,0)\n",
        "a = data.belpexa[start1:end1].resample('1H').mean().values.reshape(-1, n_hours)\n",
        "dfp=df.prices\n",
        "#print(a)\n",
        "\n",
        "\n",
        "date_rng = pd.date_range(start='1/1/2018 00:00', end='1/07/2018 23:45', freq='15T')\n",
        "df12 = pd.DataFrame(date_rng, columns=['date'])\n",
        "df_wind1_prices = pd.read_csv('wind_week_3.csv', header=0)\n",
        "df_wind1_prices=df_wind1_prices.LoadFactor\n",
        "df12['wind']=df_wind1_prices\n",
        "df_wind1_prices = df_wind1_prices.iloc[0:672,]\n",
        "df12['date'] = pd.to_datetime(df12['date'])\n",
        "df12.set_index('date', inplace=True)\n",
        "d12 = {'winda': df12.values.flatten()}\n",
        "data12 = pd.DataFrame(index=df12.index, data=d12)\n",
        "a12 = data12.winda[start1:end1].resample('24H').mean().values.reshape(-1, 1)\n",
        "#print(a12)\n",
        "\n",
        "\n",
        "date_rng = pd.date_range(start='1/1/2018 00:00', end='1/07/2018 23:45', freq='15T')\n",
        "df13 = pd.DataFrame(date_rng, columns=['date'])\n",
        "df_solar1_prices = pd.read_csv('solar_week_3.csv', header=0)\n",
        "df_solar1_prices=df_solar1_prices.LoadFactor\n",
        "df13['solar']=df_solar1_prices\n",
        "df_solar1_prices = df_solar1_prices.iloc[0:672,]\n",
        "df13['date'] = pd.to_datetime(df13['date'])\n",
        "df13.set_index('date', inplace=True)\n",
        "d13 = {'solara': df13.values.flatten()}\n",
        "data13 = pd.DataFrame(index=df13.index, data=d13)\n",
        "a13 = data13.solara[start1:end1].resample('24H').mean().values.reshape(-1, 1)\n",
        "#print(a13)\n",
        "\n",
        "Eval_input_data = np.hstack((a,a12))\n",
        "Eval_input_data = np.hstack((Eval_input_data,a13))\n",
        "print('input_features ' + str(Eval_input_data.shape))\n",
        "#print(Eval_input_data)\n"
      ],
      "execution_count": 477,
      "outputs": [
        {
          "output_type": "stream",
          "text": [
            "input_features (7, 26)\n"
          ],
          "name": "stdout"
        }
      ]
    },
    {
      "cell_type": "code",
      "metadata": {
        "id": "S0Y7PAA1iSO1",
        "colab_type": "code",
        "colab": {
          "base_uri": "https://localhost:8080/",
          "height": 54
        },
        "outputId": "888b5cc2-01bc-4a8f-d3cc-82e6bdb45e3f"
      },
      "source": [
        "lags = [24*4] + list(range(96*7, 96*35, 96))+[24*7]\n",
        "print(lags)\n",
        "\n",
        "\n",
        "index = data.index \n",
        "for lag in lags:\n",
        "    data['belpexa_lag_{}'.format(lag)] = data.belpexa.shift(lag)\n",
        "    features.append('belpexa_lag_{}'.format(lag))\n",
        "data['day_in_year'] = data.index.dayofyear  \n",
        "    \n",
        "#print(data['belpexa_lag_168'][start1:end1])\n",
        "data.fillna(data.mean(), inplace = True)\n",
        "#print(data['belpexa_lag_672'][start1:end1])"
      ],
      "execution_count": 478,
      "outputs": [
        {
          "output_type": "stream",
          "text": [
            "[96, 672, 768, 864, 960, 1056, 1152, 1248, 1344, 1440, 1536, 1632, 1728, 1824, 1920, 2016, 2112, 2208, 2304, 2400, 2496, 2592, 2688, 2784, 2880, 2976, 3072, 3168, 3264, 168]\n"
          ],
          "name": "stdout"
        }
      ]
    },
    {
      "cell_type": "code",
      "metadata": {
        "id": "6TmF9Xb6iXn5",
        "colab_type": "code",
        "colab": {}
      },
      "source": [
        "\n",
        "a14 = data['belpexa_lag_168'][start1:end1].resample('24H').mean().values.reshape(-1, 1)\n",
        "a15 = data['belpexa_lag_96'][start1:end1].resample('24H').mean().values.reshape(-1, 1)\n",
        "#a16 = data['belpexa_lag_672'][start1:end1].resample('24H').mean().values.reshape(-1, 1)\n"
      ],
      "execution_count": 0,
      "outputs": []
    },
    {
      "cell_type": "code",
      "metadata": {
        "id": "BZywNgu-ib4c",
        "colab_type": "code",
        "colab": {
          "base_uri": "https://localhost:8080/",
          "height": 34
        },
        "outputId": "44cbc29e-316c-4da1-f1a2-8e25a89e9cdb"
      },
      "source": [
        "Eval_input_data = np.hstack((Eval_input_data,a14))\n",
        "Eval_input_data = np.hstack((Eval_input_data,a15))\n",
        "print('input_features ' + str(Eval_input_data.shape))"
      ],
      "execution_count": 480,
      "outputs": [
        {
          "output_type": "stream",
          "text": [
            "input_features (7, 28)\n"
          ],
          "name": "stdout"
        }
      ]
    },
    {
      "cell_type": "code",
      "metadata": {
        "id": "29JiHhZ4iplL",
        "colab_type": "code",
        "colab": {
          "base_uri": "https://localhost:8080/",
          "height": 279
        },
        "outputId": "f1ff6049-f258-4f04-9983-5ff042a6c9f3"
      },
      "source": [
        "week_one_prediction=model.predict(Eval_input_data)\n",
        "\n",
        "plt.figure()\n",
        "plt.plot(week_one_prediction[0,:].flatten(), color='blue', label='Predicted Price for week-3')\n",
        "plt.legend(frameon=False)\n",
        "plt.grid()\n",
        "plt.xlabel('Time = hours')\n",
        "plt.ylabel('Price')\n",
        "plt.show()"
      ],
      "execution_count": 481,
      "outputs": [
        {
          "output_type": "display_data",
          "data": {
            "image/png": "[encoded data removed]",
            "text/plain": [
              "<Figure size 432x288 with 1 Axes>"
            ]
          },
          "metadata": {
            "tags": [],
            "needs_background": "light"
          }
        }
      ]
    },
    {
      "cell_type": "code",
      "metadata": {
        "id": "3snWgU_A1MtU",
        "colab_type": "code",
        "colab": {
          "base_uri": "https://localhost:8080/",
          "height": 87
        },
        "outputId": "1fb194ce-6e52-4bdd-eb6d-864ea15ace6a"
      },
      "source": [
        "prediction1 = week_one_prediction[0,:]\n",
        "print(prediction1[0:24])"
      ],
      "execution_count": 463,
      "outputs": [
        {
          "output_type": "stream",
          "text": [
            "[44.825333 40.47489  38.024258 34.822426 31.28862  37.751812 51.74096\n",
            " 62.38795  62.53659  66.51772  70.465126 66.60796  63.140186 61.5928\n",
            " 58.85363  54.01252  59.867878 63.91673  61.282272 66.08425  54.01911\n",
            " 50.04195  47.872257 39.254253]\n"
          ],
          "name": "stdout"
        }
      ]
    },
    {
      "cell_type": "code",
      "metadata": {
        "id": "fGffUUtL7Bdb",
        "colab_type": "code",
        "colab": {
          "base_uri": "https://localhost:8080/",
          "height": 457
        },
        "outputId": "9fd773e6-f90a-4d70-c4ec-04e8d0ace82e"
      },
      "source": [
        "from pandas import DataFrame\n",
        "df_export = pd.DataFrame(prediction1)\n",
        "print(df_export)"
      ],
      "execution_count": 388,
      "outputs": [
        {
          "output_type": "stream",
          "text": [
            "            0\n",
            "0   40.099270\n",
            "1   34.947357\n",
            "2   32.616280\n",
            "3   28.386057\n",
            "4   28.463263\n",
            "5   34.112072\n",
            "6   45.135216\n",
            "7   56.479237\n",
            "8   56.201870\n",
            "9   59.901581\n",
            "10  60.754589\n",
            "11  57.744640\n",
            "12  56.149467\n",
            "13  55.722240\n",
            "14  50.962624\n",
            "15  48.931282\n",
            "16  45.848824\n",
            "17  62.593632\n",
            "18  79.258881\n",
            "19  83.750938\n",
            "20  63.413368\n",
            "21  53.865330\n",
            "22  51.978878\n",
            "23  47.352432\n"
          ],
          "name": "stdout"
        }
      ]
    },
    {
      "cell_type": "code",
      "metadata": {
        "id": "_OIx646I9EPZ",
        "colab_type": "code",
        "colab": {}
      },
      "source": [
        "export_csv = df_export.to_csv (r'C:\\Users\\haider\\Desktop\\pred3.csv', mode='a', index = None, header=False)"
      ],
      "execution_count": 0,
      "outputs": []
    }
  ]
}